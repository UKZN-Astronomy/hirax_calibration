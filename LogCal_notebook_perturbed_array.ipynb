{
 "cells": [
  {
   "cell_type": "code",
   "execution_count": null,
   "metadata": {},
   "outputs": [],
   "source": [
    "import numpy as np\n",
    "import random\n",
    "import matplotlib.pyplot as plt\n",
    "from scipy.optimize import fmin_cg, minimize\n",
    "import sys\n",
    "sys.path.insert(0,'/home/zahra/PIPELINE')\n",
    "import scipy as sp\n",
    "from LogCal_code import Logcal_solutions\n",
    "\n",
    "#CorrCal_notebook_perturbed_array_file is the same as the CorrCal notebook posted on this account\n",
    "from CorrCal_notebook_perturbed_array_file import m, S_max, Ndish, Nbls,hist_rel_err_mean_std, Vis_bright_sources, Vis_poisson"
   ]
  },
  {
   "cell_type": "code",
   "execution_count": null,
   "metadata": {},
   "outputs": [],
   "source": [
    "Vis_total = Vis_poisson + Vis_bright_sources"
   ]
  },
  {
   "cell_type": "code",
   "execution_count": null,
   "metadata": {},
   "outputs": [],
   "source": [
    "def Measured_vis(sigma, visibilities):\n",
    "    '''\n",
    "    Calculates visibilities with noise\n",
    "    \n",
    "    Parameters\n",
    "    ----------\n",
    "    sigma : float\n",
    "        The detector noise\n",
    "    visibilities : \n",
    "        Noiseless visibilities (Nbls,)\n",
    "        \n",
    "    Returns\n",
    "    -------\n",
    "    Measured visibilities : ndarray\n",
    "        Visibilities with noise (Nbls,) in units [Jy]\n",
    "    '''\n",
    "\n",
    "    mu = 0  \n",
    "    N_real = np.random.normal(mu, sigma, Nbls)\n",
    "    N_imag = np.random.normal(mu, sigma, Nbls)\n",
    "    N_comp = np.array([])\n",
    "    for i in range(len(N_real)):\n",
    "        N_comp = np.append(N_comp,complex(N_real[i],N_imag[i]))\n",
    "    meas_vis = visibilities + N_comp\n",
    "    return meas_vis"
   ]
  },
  {
   "cell_type": "code",
   "execution_count": null,
   "metadata": {},
   "outputs": [],
   "source": [
    "gain = np.ones(Ndish)\n",
    "sim_gains = np.ones(2*Ndish)\n",
    "sim_gains[::2] = gain.real\n",
    "sim_gains[1::2] = gain.imag"
   ]
  },
  {
   "cell_type": "code",
   "execution_count": null,
   "metadata": {},
   "outputs": [],
   "source": [
    "def recovered_gains(visibilities):\n",
    "    '''\n",
    "    Recovered gain amplitudes computed. The phase component is not included here\n",
    "    \n",
    "    Parameters\n",
    "    ----------\n",
    "    visibilities : \n",
    "        Visibilities with noise (Nbls,)\n",
    "        \n",
    "    Returns\n",
    "    -------\n",
    "    rec_gains : ndarray\n",
    "        Recovered gain amplitudes (Ndish,)\n",
    "    '''\n",
    "    sigma = S_max*0.01\n",
    "    runs = 500\n",
    "    rec_gains = np.zeros((runs,Ndish))\n",
    "    for ind_run in range(runs):\n",
    "        print (ind_run)\n",
    "        meas_vis = Measured_vis(sigma, visibilities)    \n",
    "        rec_gains[ind_run,:] = Logcal_solutions(m,visibilities,visibilities, gain,meas_vis, sigma)[0][:Ndish]  \n",
    "        print (np.exp(rec_gains[ind_run,:]))\n",
    "    return rec_gains"
   ]
  },
  {
   "cell_type": "code",
   "execution_count": null,
   "metadata": {},
   "outputs": [],
   "source": [
    "rec_gains = recovered_gains(Vis_total)\n",
    "#rec_gains = recovered_gains(Vis_poisson)"
   ]
  },
  {
   "cell_type": "code",
   "execution_count": null,
   "metadata": {},
   "outputs": [],
   "source": [
    "std, mean=hist_rel_err_mean_std(np.exp(rec_gains[:]), sim_gains[::2]) # take the exponential\n",
    "#of recovered gains because LogCal returns logarithm of the gains\n",
    "\n",
    "plt.hist(mean,'auto') \n",
    "plt.xlabel('Mean')\n",
    "#plt.xscale('log')\n",
    "plt.show()"
   ]
  },
  {
   "cell_type": "code",
   "execution_count": null,
   "metadata": {},
   "outputs": [],
   "source": [
    "np.median(mean)"
   ]
  },
  {
   "cell_type": "code",
   "execution_count": null,
   "metadata": {},
   "outputs": [],
   "source": [
    "plt.hist(std,'auto') \n",
    "plt.xlabel('Standard deviation')\n",
    "#plt.xscale('log')\n",
    "plt.show()"
   ]
  },
  {
   "cell_type": "code",
   "execution_count": null,
   "metadata": {},
   "outputs": [],
   "source": [
    "np.median(std)"
   ]
  }
 ],
 "metadata": {
  "kernelspec": {
   "display_name": "Python 3",
   "language": "python",
   "name": "python3"
  },
  "language_info": {
   "codemirror_mode": {
    "name": "ipython",
    "version": 3
   },
   "file_extension": ".py",
   "mimetype": "text/x-python",
   "name": "python",
   "nbconvert_exporter": "python",
   "pygments_lexer": "ipython3",
   "version": "3.7.3"
  }
 },
 "nbformat": 4,
 "nbformat_minor": 2
}
