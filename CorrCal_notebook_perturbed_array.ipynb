{
 "cells": [
  {
   "cell_type": "markdown",
   "metadata": {},
   "source": [
    "## Code to run CorrCal with dish scatter"
   ]
  },
  {
   "cell_type": "code",
   "execution_count": 5,
   "metadata": {},
   "outputs": [],
   "source": [
    "%run Functions.py"
   ]
  },
  {
   "cell_type": "code",
   "execution_count": 1,
   "metadata": {},
   "outputs": [],
   "source": [
    "import numpy as np\n",
    "import random\n",
    "import h5py,time, matplotlib.pyplot as plt\n",
    "from scipy.optimize import fmin_cg, minimize\n",
    "from drift.core import manager\n",
    "import corrcal\n",
    "import sys\n",
    "sys.path.insert(0,'/home/zahra/PIPELINE')\n",
    "from hirax_transfer import core\n",
    "import scipy as sp\n",
    "from cora.util import hputil\n",
    "from astropy.stats import gaussian_fwhm_to_sigma\n",
    "from hirax_transfer.beams import separations\n",
    "import healpy as hp\n",
    "from cora.core import skysim\n",
    "from cora.foreground import gaussianfg, galaxy\n",
    "from cora.util import coord\n",
    "from drift.core import visibility\n",
    "sys.path.insert(0,'/home/zahra/hirax_tools/')\n",
    "from hirax_tools import array_config\n",
    "from LogCal_code import Bls_counts\n",
    "from cora.foreground import poisson as ps\n",
    "import concurrent.futures"
   ]
  },
  {
   "cell_type": "markdown",
   "metadata": {},
   "source": [
    "Prod params file used to generate x and y antenna positions, assuming single feed for each antenna\n"
   ]
  },
  {
   "cell_type": "code",
   "execution_count": 8,
   "metadata": {},
   "outputs": [
    {
     "name": "stdout",
     "output_type": "stream",
     "text": [
      "Product directory: /home/zahra/PIPELINE/8by8_no_sims/bt_matrices\n"
     ]
    }
   ],
   "source": [
    "m = manager.ProductManager.from_config('/home/zahra/PIPELINE/8by8_no_sims/prod_params_custom.yaml') \n",
    "\n",
    "t = m.telescope\n",
    "Nfeeds,_= t.feedpositions.shape\n",
    "Ndish = np.int(Nfeeds/2)\n",
    "Nbls = np.int(Ndish*(Ndish-1)/2)\n",
    "\n",
    "x = t.feedpositions[:,0][:Ndish] \n",
    "y = t.feedpositions[:,1][:Ndish]\n"
   ]
  },
  {
   "cell_type": "code",
   "execution_count": 15,
   "metadata": {},
   "outputs": [],
   "source": [
    "x = x + np.load('/home/zahra/corrcal2/random_pt1_x_64.npy')[:Ndish]\n",
    "y = y + np.load('/home/zahra/corrcal2/random_pt1_y_64.npy')[:Ndish]"
   ]
  },
  {
   "cell_type": "code",
   "execution_count": 16,
   "metadata": {},
   "outputs": [],
   "source": [
    "bl_arr_dish_indices, sum_counts, bl_counts = Bls_counts(m)\n",
    "lims = np.append(0, sum_counts) #these are the edges of the redundant blocks"
   ]
  },
  {
   "cell_type": "code",
   "execution_count": 17,
   "metadata": {},
   "outputs": [],
   "source": [
    "ant1 = bl_arr_dish_indices[:,0].astype(int)\n",
    "ant2 = bl_arr_dish_indices[:,1].astype(int)"
   ]
  },
  {
   "cell_type": "code",
   "execution_count": 18,
   "metadata": {},
   "outputs": [],
   "source": [
    "Frequency = 400. #MHz\n",
    "Nside = 256\n",
    "zenith = t.zenith"
   ]
  },
  {
   "cell_type": "markdown",
   "metadata": {},
   "source": [
    "The Mu function follows the equation $\\mu_n = \\int S^n \\frac{dN}{dS} dS$, with n=2 used for visibilities and n=3 for sky cov"
   ]
  },
  {
   "cell_type": "markdown",
   "metadata": {},
   "source": [
    "I give details of generating the bright point source map (These are taken from cora - one of the Radio Cosmology packages). The functions below show that fluxes from a flux distribution are placed in random pixels, such that we can treat individual pixels as sources.\n",
    "\n",
    "Please note that the next three cells are taken from cora and are not written by me"
   ]
  },
  {
   "cell_type": "code",
   "execution_count": 19,
   "metadata": {},
   "outputs": [],
   "source": [
    "flux_min = 1.\n",
    "flux_max = 10."
   ]
  },
  {
   "cell_type": "code",
   "execution_count": 20,
   "metadata": {},
   "outputs": [],
   "source": [
    "Map = getsky(Frequency, Nside, flux_min, flux_max)[0] # I save this array for each flux range that I consider so \n",
    "#that the source positions are the same for each run"
   ]
  },
  {
   "cell_type": "markdown",
   "metadata": {},
   "source": [
    "Below is the function to generate the source vector. Ideally, when computing the per visibility response to each source for each baseline, I would consider each pixel in the HEALPix map. This takes about two hours to finish running, and scales up considerably with an increase in the number of bright sources. Thus, I only include the pixels that contribute to the visilities (i.e. include pixels that give non-zero visibilities). As a result, I multiply the map values and beammodel, and consider the pixels for which this product is larger than some value (set to $10^{-3}$ in the function below)"
   ]
  },
  {
   "cell_type": "markdown",
   "metadata": {},
   "source": [
    "The visibilities due bright sources is then computed by summing over the per visibility response of each bright source, in the source vector, S, as shown below"
   ]
  },
  {
   "cell_type": "raw",
   "metadata": {},
   "source": [
    "Vis_bright_sources, src_total = Src_vector(m, Frequency, Nside, Map, 1e-6)"
   ]
  },
  {
   "cell_type": "code",
   "execution_count": 21,
   "metadata": {},
   "outputs": [],
   "source": [
    "src_total = np.load('src_total_6Aug_flux_1Jy_10Jy.npy')\n",
    "Vis_bright_sources = np.load('Vis_bright_sources_6Aug_flux_1Jy_10Jy.npy')"
   ]
  },
  {
   "cell_type": "markdown",
   "metadata": {},
   "source": [
    "Again, to speed up the code, I do not include each pixel of the HEALPix map when generating visibilities of unresolved, dim sources, with a Poisson distribution. I only include pixels where the beam is larger than $10^{-10}$, as demonstrated in the function below."
   ]
  },
  {
   "cell_type": "raw",
   "metadata": {},
   "source": [
    "Vis_poisson = Visibilities_poisson(m, Frequency, Nside)"
   ]
  },
  {
   "cell_type": "code",
   "execution_count": 23,
   "metadata": {},
   "outputs": [],
   "source": [
    "%store -r Vis_poisson"
   ]
  },
  {
   "cell_type": "code",
   "execution_count": 26,
   "metadata": {},
   "outputs": [],
   "source": [
    "Vis_total = Vis_poisson + Vis_bright_sources"
   ]
  },
  {
   "cell_type": "markdown",
   "metadata": {},
   "source": [
    "The redundant blocking that I use in the function below is the same as that used for the perfectly redundant case. "
   ]
  },
  {
   "cell_type": "raw",
   "metadata": {},
   "source": [
    "vecs = Vecs(m, Frequency, Nside)"
   ]
  },
  {
   "cell_type": "code",
   "execution_count": 27,
   "metadata": {},
   "outputs": [],
   "source": [
    "%store -r vecs"
   ]
  },
  {
   "cell_type": "markdown",
   "metadata": {},
   "source": [
    "True gains which we set to 1, so that the real and imaginary components correspond to the\n",
    "amplitude and phase, respectively"
   ]
  },
  {
   "cell_type": "code",
   "execution_count": 9,
   "metadata": {},
   "outputs": [],
   "source": [
    "gain = np.ones(Ndish)\n",
    "sim_gains = np.ones(2*Ndish)\n",
    "sim_gains[::2] = gain.real\n",
    "sim_gains[1::2] = gain.imag"
   ]
  },
  {
   "cell_type": "code",
   "execution_count": 29,
   "metadata": {},
   "outputs": [],
   "source": [
    "src_zeros = np.zeros(2*Nbls) # used if the source positions are unknown"
   ]
  },
  {
   "cell_type": "code",
   "execution_count": 66,
   "metadata": {},
   "outputs": [],
   "source": [
    "v1=np.zeros(2*Nbls)\n",
    "v1[0::2]=1\n",
    "v2=np.zeros(2*Nbls)\n",
    "v2[1::2]=1\n",
    "vecs_redundant = np.vstack([v1,v2])*1.e3 # used for the redundant case in CorrCal"
   ]
  },
  {
   "cell_type": "code",
   "execution_count": 68,
   "metadata": {},
   "outputs": [
    {
     "name": "stdout",
     "output_type": "stream",
     "text": [
      "Warning: Desired error not necessarily achieved due to precision loss.\n",
      "         Current function value: 123828525520.524170\n",
      "         Iterations: 8\n",
      "         Function evaluations: 145\n",
      "         Gradient evaluations: 133\n",
      "Warning: Desired error not necessarily achieved due to precision loss.\n",
      "         Current function value: 123828525520.524170\n",
      "         Iterations: 8\n",
      "         Function evaluations: 145\n",
      "         Gradient evaluations: 133\n",
      "Warning: Desired error not necessarily achieved due to precision loss.\n",
      "         Current function value: 123828525520.524170\n",
      "         Iterations: 8\n",
      "         Function evaluations: 145\n",
      "         Gradient evaluations: 133\n",
      "Warning: Desired error not necessarily achieved due to precision loss.\n",
      "         Current function value: 123828525520.524170\n",
      "         Iterations: 8\n",
      "         Function evaluations: 145\n",
      "         Gradient evaluations: 133\n",
      "Warning: Desired error not necessarily achieved due to precision loss.\n",
      "         Current function value: 123828525520.524170\n",
      "         Iterations: 8\n",
      "         Function evaluations: 145\n",
      "         Gradient evaluations: 133\n",
      "[1.00015764 0.99985447 1.00008565 0.99973648 0.9997448  1.00062999\n",
      " 0.99954346 0.99986532 1.00069045 1.00004118 1.00104474 1.00027647\n",
      " 0.99968763 1.00115256 0.99993834 1.00042822 0.99991047 1.00106036\n",
      " 1.00072264 1.00027743 0.99996977 1.00020111 1.00044237 1.00070479\n",
      " 0.99997204 0.9995701  1.00036481 0.99978705 0.99982931 1.00077715\n",
      " 1.00032247 0.99976274 0.99931417 0.99945457 1.00003682 0.99882643\n",
      " 1.0005923  0.99950888 1.00025456 0.99982089 1.00005514 0.99930616\n",
      " 0.99978072 0.99953487 1.00007384 0.999335   1.00009307 1.00027478\n",
      " 1.00001018 1.00081486 0.9994038  1.0004958  1.00057257 0.99960746\n",
      " 1.00034454 0.99970763 0.99845566 1.00127086 1.00051545 1.00098854\n",
      " 1.00013697 0.99987992 0.99965687 0.99949133]\n",
      "Warning: Desired error not necessarily achieved due to precision loss.\n",
      "         Current function value: 123828525520.524170\n",
      "         Iterations: 8\n",
      "         Function evaluations: 145\n",
      "         Gradient evaluations: 133\n",
      "Warning: Desired error not necessarily achieved due to precision loss.\n",
      "         Current function value: 123828525520.524170\n",
      "         Iterations: 8\n",
      "         Function evaluations: 145\n",
      "         Gradient evaluations: 133\n",
      "Warning: Desired error not necessarily achieved due to precision loss.\n",
      "         Current function value: 123828525520.524170\n",
      "         Iterations: 8\n",
      "         Function evaluations: 145\n",
      "         Gradient evaluations: 133\n",
      "[1.00015764 0.99985447 1.00008565 0.99973648 0.9997448  1.00062999\n",
      " 0.99954346 0.99986532 1.00069045 1.00004118 1.00104474 1.00027647\n",
      " 0.99968763 1.00115256 0.99993834 1.00042822 0.99991047 1.00106036\n",
      " 1.00072264 1.00027743 0.99996977 1.00020111 1.00044237 1.00070479\n",
      " 0.99997204 0.9995701  1.00036481 0.99978705 0.99982931 1.00077715\n",
      " 1.00032247 0.99976274 0.99931417 0.99945457 1.00003682 0.99882643\n",
      " 1.0005923  0.99950888 1.00025456 0.99982089 1.00005514 0.99930616\n",
      " 0.99978072 0.99953487 1.00007384 0.999335   1.00009307 1.00027478\n",
      " 1.00001018 1.00081486 0.9994038  1.0004958  1.00057257 0.99960746\n",
      " 1.00034454 0.99970763 0.99845566 1.00127086 1.00051545 1.00098854\n",
      " 1.00013697 0.99987992 0.99965687 0.99949133]\n",
      "Warning: Desired error not necessarily achieved due to precision loss.\n",
      "         Current function value: 123828525520.524170\n",
      "         Iterations: 8\n",
      "         Function evaluations: 145\n",
      "         Gradient evaluations: 133\n",
      "[1.00015764 0.99985447 1.00008565 0.99973648 0.9997448  1.00062999\n",
      " 0.99954346 0.99986532 1.00069045 1.00004118 1.00104474 1.00027647\n",
      " 0.99968763 1.00115256 0.99993834 1.00042822 0.99991047 1.00106036\n",
      " 1.00072264 1.00027743 0.99996977 1.00020111 1.00044237 1.00070479\n",
      " 0.99997204 0.9995701  1.00036481 0.99978705 0.99982931 1.00077715\n",
      " 1.00032247 0.99976274 0.99931417 0.99945457 1.00003682 0.99882643\n",
      " 1.0005923  0.99950888 1.00025456 0.99982089 1.00005514 0.99930616\n",
      " 0.99978072 0.99953487 1.00007384 0.999335   1.00009307 1.00027478\n",
      " 1.00001018 1.00081486 0.9994038  1.0004958  1.00057257 0.99960746\n",
      " 1.00034454 0.99970763 0.99845566 1.00127086 1.00051545 1.00098854\n",
      " 1.00013697 0.99987992 0.99965687 0.99949133]\n",
      "[1.00015764 0.99985447 1.00008565 0.99973648 0.9997448  1.00062999\n",
      " 0.99954346 0.99986532 1.00069045 1.00004118 1.00104474 1.00027647\n",
      " 0.99968763 1.00115256 0.99993834 1.00042822 0.99991047 1.00106036\n",
      " 1.00072264 1.00027743 0.99996977 1.00020111 1.00044237 1.00070479\n",
      " 0.99997204 0.9995701  1.00036481 0.99978705 0.99982931 1.00077715\n",
      " 1.00032247 0.99976274 0.99931417 0.99945457 1.00003682 0.99882643\n",
      " 1.0005923  0.99950888 1.00025456 0.99982089 1.00005514 0.99930616\n",
      " 0.99978072 0.99953487 1.00007384 0.999335   1.00009307 1.00027478\n",
      " 1.00001018 1.00081486 0.9994038  1.0004958  1.00057257 0.99960746\n",
      " 1.00034454 0.99970763 0.99845566 1.00127086 1.00051545 1.00098854\n",
      " 1.00013697 0.99987992 0.99965687 0.99949133]\n",
      "[1.00015764 0.99985447 1.00008565 0.99973648 0.9997448  1.00062999\n",
      " 0.99954346 0.99986532 1.00069045 1.00004118 1.00104474 1.00027647\n",
      " 0.99968763 1.00115256 0.99993834 1.00042822 0.99991047 1.00106036\n",
      " 1.00072264 1.00027743 0.99996977 1.00020111 1.00044237 1.00070479\n",
      " 0.99997204 0.9995701  1.00036481 0.99978705 0.99982931 1.00077715\n",
      " 1.00032247 0.99976274 0.99931417 0.99945457 1.00003682 0.99882643\n",
      " 1.0005923  0.99950888 1.00025456 0.99982089 1.00005514 0.99930616\n",
      " 0.99978072 0.99953487 1.00007384 0.999335   1.00009307 1.00027478\n",
      " 1.00001018 1.00081486 0.9994038  1.0004958  1.00057257 0.99960746\n",
      " 1.00034454 0.99970763 0.99845566 1.00127086 1.00051545 1.00098854\n",
      " 1.00013697 0.99987992 0.99965687 0.99949133]\n",
      "[1.00015764 0.99985447 1.00008565 0.99973648 0.9997448  1.00062999\n",
      " 0.99954346 0.99986532 1.00069045 1.00004118 1.00104474 1.00027647\n",
      " 0.99968763 1.00115256 0.99993834 1.00042822 0.99991047 1.00106036\n",
      " 1.00072264 1.00027743 0.99996977 1.00020111 1.00044237 1.00070479\n",
      " 0.99997204 0.9995701  1.00036481 0.99978705 0.99982931 1.00077715\n",
      " 1.00032247 0.99976274 0.99931417 0.99945457 1.00003682 0.99882643\n",
      " 1.0005923  0.99950888 1.00025456 0.99982089 1.00005514 0.99930616\n",
      " 0.99978072 0.99953487 1.00007384 0.999335   1.00009307 1.00027478\n",
      " 1.00001018 1.00081486 0.9994038  1.0004958  1.00057257 0.99960746\n",
      " 1.00034454 0.99970763 0.99845566 1.00127086 1.00051545 1.00098854\n",
      " 1.00013697 0.99987992 0.99965687 0.99949133]\n",
      "[1.00015764 0.99985447 1.00008565 0.99973648 0.9997448  1.00062999\n",
      " 0.99954346 0.99986532 1.00069045 1.00004118 1.00104474 1.00027647\n",
      " 0.99968763 1.00115256 0.99993834 1.00042822 0.99991047 1.00106036\n",
      " 1.00072264 1.00027743 0.99996977 1.00020111 1.00044237 1.00070479\n",
      " 0.99997204 0.9995701  1.00036481 0.99978705 0.99982931 1.00077715\n",
      " 1.00032247 0.99976274 0.99931417 0.99945457 1.00003682 0.99882643\n",
      " 1.0005923  0.99950888 1.00025456 0.99982089 1.00005514 0.99930616\n",
      " 0.99978072 0.99953487 1.00007384 0.999335   1.00009307 1.00027478\n",
      " 1.00001018 1.00081486 0.9994038  1.0004958  1.00057257 0.99960746\n",
      " 1.00034454 0.99970763 0.99845566 1.00127086 1.00051545 1.00098854\n",
      " 1.00013697 0.99987992 0.99965687 0.99949133]\n",
      "Warning: Desired error not necessarily achieved due to precision loss.\n",
      "         Current function value: 123828525520.524170\n",
      "         Iterations: 8\n",
      "         Function evaluations: 145\n",
      "         Gradient evaluations: 133\n",
      "[1.00015764 0.99985447 1.00008565 0.99973648 0.9997448  1.00062999\n",
      " 0.99954346 0.99986532 1.00069045 1.00004118 1.00104474 1.00027647\n",
      " 0.99968763 1.00115256 0.99993834 1.00042822 0.99991047 1.00106036\n",
      " 1.00072264 1.00027743 0.99996977 1.00020111 1.00044237 1.00070479\n",
      " 0.99997204 0.9995701  1.00036481 0.99978705 0.99982931 1.00077715\n",
      " 1.00032247 0.99976274 0.99931417 0.99945457 1.00003682 0.99882643\n",
      " 1.0005923  0.99950888 1.00025456 0.99982089 1.00005514 0.99930616\n",
      " 0.99978072 0.99953487 1.00007384 0.999335   1.00009307 1.00027478\n",
      " 1.00001018 1.00081486 0.9994038  1.0004958  1.00057257 0.99960746\n",
      " 1.00034454 0.99970763 0.99845566 1.00127086 1.00051545 1.00098854\n",
      " 1.00013697 0.99987992 0.99965687 0.99949133]\n",
      "[1.00015764 0.99985447 1.00008565 0.99973648 0.9997448  1.00062999\n",
      " 0.99954346 0.99986532 1.00069045 1.00004118 1.00104474 1.00027647\n",
      " 0.99968763 1.00115256 0.99993834 1.00042822 0.99991047 1.00106036\n",
      " 1.00072264 1.00027743 0.99996977 1.00020111 1.00044237 1.00070479\n",
      " 0.99997204 0.9995701  1.00036481 0.99978705 0.99982931 1.00077715\n",
      " 1.00032247 0.99976274 0.99931417 0.99945457 1.00003682 0.99882643\n",
      " 1.0005923  0.99950888 1.00025456 0.99982089 1.00005514 0.99930616\n",
      " 0.99978072 0.99953487 1.00007384 0.999335   1.00009307 1.00027478\n",
      " 1.00001018 1.00081486 0.9994038  1.0004958  1.00057257 0.99960746\n",
      " 1.00034454 0.99970763 0.99845566 1.00127086 1.00051545 1.00098854\n",
      " 1.00013697 0.99987992 0.99965687 0.99949133]\n",
      "[1.00015764 0.99985447 1.00008565 0.99973648 0.9997448  1.00062999\n",
      " 0.99954346 0.99986532 1.00069045 1.00004118 1.00104474 1.00027647\n",
      " 0.99968763 1.00115256 0.99993834 1.00042822 0.99991047 1.00106036\n",
      " 1.00072264 1.00027743 0.99996977 1.00020111 1.00044237 1.00070479\n",
      " 0.99997204 0.9995701  1.00036481 0.99978705 0.99982931 1.00077715\n",
      " 1.00032247 0.99976274 0.99931417 0.99945457 1.00003682 0.99882643\n",
      " 1.0005923  0.99950888 1.00025456 0.99982089 1.00005514 0.99930616\n",
      " 0.99978072 0.99953487 1.00007384 0.999335   1.00009307 1.00027478\n",
      " 1.00001018 1.00081486 0.9994038  1.0004958  1.00057257 0.99960746\n",
      " 1.00034454 0.99970763 0.99845566 1.00127086 1.00051545 1.00098854\n",
      " 1.00013697 0.99987992 0.99965687 0.99949133]\n",
      "236.39342912099983 time taken to finish\n"
     ]
    }
   ],
   "source": [
    "rec_gains = fit_gains(500, src_total, vecs, Vis_total)"
   ]
  },
  {
   "cell_type": "code",
   "execution_count": null,
   "metadata": {},
   "outputs": [],
   "source": [
    "std, mean = hist_rel_err_mean_std(results_arr, sim_gains[::2]) # To consider just the \n",
    "#amplitude, we take every second value"
   ]
  },
  {
   "cell_type": "markdown",
   "metadata": {},
   "source": [
    "I loaded the results I had obtained for the mean and std dev of the gain amplitude error for 500 noise realisations, using both CorrCal and LogCal. These runs assume 314 bright sources between 1-10 Jy contribute to the visibilities. The sources are generated from the luminosity function (Di Matteo et al. 2012)"
   ]
  },
  {
   "cell_type": "code",
   "execution_count": 10,
   "metadata": {},
   "outputs": [],
   "source": [
    "results_arr = np.load('amp_gains_CorrCal_perturbed_brightsources_1Jy_10Jy_314_sources_500_runs.npy')"
   ]
  },
  {
   "cell_type": "code",
   "execution_count": 11,
   "metadata": {},
   "outputs": [],
   "source": [
    "logcal_results_arr = np.load('amp_gains_LogCal_perturbed_brightsources_1Jy_10Jy_314_sources_500_runs.npy')"
   ]
  },
  {
   "cell_type": "code",
   "execution_count": 12,
   "metadata": {},
   "outputs": [],
   "source": [
    "std_logcal, mean_logcal = hist_rel_err_mean_std(np.exp(logcal_results_arr), sim_gains[::2]) "
   ]
  },
  {
   "cell_type": "code",
   "execution_count": 13,
   "metadata": {},
   "outputs": [],
   "source": [
    "std, mean = hist_rel_err_mean_std(results_arr, sim_gains[::2])"
   ]
  },
  {
   "cell_type": "code",
   "execution_count": 19,
   "metadata": {},
   "outputs": [
    {
     "data": {
      "image/png": "[encoded data removed]",
      "text/plain": [
       "<Figure size 432x288 with 1 Axes>"
      ]
     },
     "metadata": {
      "needs_background": "light"
     },
     "output_type": "display_data"
    }
   ],
   "source": [
    "plt.hist(mean,'auto', color = 'b', label = 'CorrCal') \n",
    "plt.hist(mean_logcal, 'auto', color = 'r', label = 'LogCal')\n",
    "plt.xlabel('Mean')\n",
    "#plt.xscale('log')\n",
    "plt.legend()\n",
    "plt.show()"
   ]
  },
  {
   "cell_type": "code",
   "execution_count": 21,
   "metadata": {},
   "outputs": [
    {
     "data": {
      "image/png": "[encoded data removed]",
      "text/plain": [
       "<Figure size 432x288 with 1 Axes>"
      ]
     },
     "metadata": {
      "needs_background": "light"
     },
     "output_type": "display_data"
    }
   ],
   "source": [
    "plt.hist(std,'auto', color = 'b', label = 'CorrCal') \n",
    "plt.hist(std_logcal, 'auto', color = 'r', label = 'LogCal')\n",
    "plt.xlabel('Standard deviation')\n",
    "#plt.xscale('log')\n",
    "plt.legend()\n",
    "plt.show()"
   ]
  }
 ],
 "metadata": {
  "kernelspec": {
   "display_name": "Python 3",
   "language": "python",
   "name": "python3"
  },
  "language_info": {
   "codemirror_mode": {
    "name": "ipython",
    "version": 3
   },
   "file_extension": ".py",
   "mimetype": "text/x-python",
   "name": "python",
   "nbconvert_exporter": "python",
   "pygments_lexer": "ipython3",
   "version": "3.7.3"
  }
 },
 "nbformat": 4,
 "nbformat_minor": 2
}
